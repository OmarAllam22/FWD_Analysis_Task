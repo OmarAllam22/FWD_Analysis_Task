{
 "cells": [
  {
   "cell_type": "markdown",
   "id": "b7ec7713",
   "metadata": {},
   "source": [
    "# <center> Project: Investigating data named (No-show appointments)\n",
    "\n",
    "<center> Practitioner Name: Omar Allam"
   ]
  },
  {
   "cell_type": "markdown",
   "id": "f9fc2ca5",
   "metadata": {},
   "source": [
    "_________________________________\n",
    "# Table of contents:\n",
    "<ul>\n",
    "<li><a href=\"#Intro\">Introduction</a></li>\n",
    "<li><a href=\"#Wrangling\">Data Wrangling</a></li>\n",
    "<li><a href=\"#EDA\">EDA (Exploratoty Data Analysis)</a></li>\n",
    "<li><a href=\"#Conclusion\">Conclusion</a></li>\n",
    "</ul>\n"
   ]
  },
  {
   "cell_type": "markdown",
   "id": "84339e15",
   "metadata": {},
   "source": [
    "<a id='Intro'></a>\n",
    "## Introduction:\n",
    "_________________________________\n",
    "### 1- Dataset Description:\n",
    "- This dataset collects information from 100k medical appointments in Brazil and is focused on the question of whether or not patients show up for their appointment. A number of characteristics about the patient are included in each row.\n",
    "- The data has 110527 rows and 14 columns.\n",
    "_________________________________\n",
    "### 2- Columns' description:\n",
    "\n",
    "> `PatientId`: Identification of each patient.\n",
    "\n",
    "> `AppointmentID`: Identification of each appointment.\n",
    "\n",
    "> `Gender`: Gender of the patient. (F : Female , M : Male)\n",
    "\n",
    "> `ScheduledDay`: Day when the patient set up the appointment.\n",
    "\n",
    "> `AppointmentDay`: Day of the appointment at teh hospital.\n",
    "\n",
    "> `Age`: Age of the patient.\n",
    "\n",
    "> `Neighbourhood`: Location of the hospital.\n",
    "\n",
    "> `Scholarship`: If the patient enrolled in Bolsa Família for poor Brazilian or not. (0 : didn't enrol , 1 : enrolled)\n",
    "\n",
    "> `Hipertension`: If the patient suffers Hypertension \"raise in blood pressure\" or not. (0 : doesn't suffer , 1 : suffers) \n",
    "\n",
    "> `Diabetes`: If the patient suffers Diabetes or not. (0 : doesn't suffer , 1 :  suffers)\n",
    "\n",
    "> `Alcoholism`: If the patient is Alcohol addicted or not. (0 : No , 1 : Yes)\n",
    "\n",
    "> `Handcap`: No Info about this column in the documentaion \"the name may be misspilled\"\n",
    "\n",
    "> `SMS_received`: As in the documentation, it is the number of SMS received by the patient from the hospital. (0 : No-SMS , 1 : one-SMS)\n",
    "\n",
    "> `No-show`: If the patient cancel its appointment or not. (Yes : canceled , No : not-canceled)  "
   ]
  },
  {
   "cell_type": "markdown",
   "id": "62f6d0d6",
   "metadata": {},
   "source": [
    "<a id='Wrangling'></a>\n",
    "## Data Wrangling:\n"
   ]
  },
  {
   "cell_type": "markdown",
   "id": "28402aa8",
   "metadata": {},
   "source": [
    "\n",
    "### 1- Loading Data & Libraries:\n"
   ]
  },
  {
   "cell_type": "code",
   "execution_count": 70,
   "id": "f77838c9",
   "metadata": {},
   "outputs": [],
   "source": [
    "import pandas as pd\n",
    "import numpy as np\n",
    "import matplotlib.pyplot as plt\n",
    "import seaborn as sns\n",
    "%matplotlib inline\n"
   ]
  },
  {
   "cell_type": "code",
   "execution_count": 71,
   "id": "438a3375",
   "metadata": {
    "scrolled": true
   },
   "outputs": [
    {
     "data": {
      "text/html": [
       "<div>\n",
       "<style scoped>\n",
       "    .dataframe tbody tr th:only-of-type {\n",
       "        vertical-align: middle;\n",
       "    }\n",
       "\n",
       "    .dataframe tbody tr th {\n",
       "        vertical-align: top;\n",
       "    }\n",
       "\n",
       "    .dataframe thead th {\n",
       "        text-align: right;\n",
       "    }\n",
       "</style>\n",
       "<table border=\"1\" class=\"dataframe\">\n",
       "  <thead>\n",
       "    <tr style=\"text-align: right;\">\n",
       "      <th></th>\n",
       "      <th>PatientId</th>\n",
       "      <th>AppointmentID</th>\n",
       "      <th>Gender</th>\n",
       "      <th>ScheduledDay</th>\n",
       "      <th>AppointmentDay</th>\n",
       "      <th>Age</th>\n",
       "      <th>Neighbourhood</th>\n",
       "      <th>Scholarship</th>\n",
       "      <th>Hipertension</th>\n",
       "      <th>Diabetes</th>\n",
       "      <th>Alcoholism</th>\n",
       "      <th>Handcap</th>\n",
       "      <th>SMS_received</th>\n",
       "      <th>No-show</th>\n",
       "    </tr>\n",
       "  </thead>\n",
       "  <tbody>\n",
       "    <tr>\n",
       "      <th>0</th>\n",
       "      <td>2.987250e+13</td>\n",
       "      <td>5642903</td>\n",
       "      <td>F</td>\n",
       "      <td>2016-04-29 18:38:08+00:00</td>\n",
       "      <td>2016-04-29 00:00:00+00:00</td>\n",
       "      <td>62</td>\n",
       "      <td>JARDIM DA PENHA</td>\n",
       "      <td>0</td>\n",
       "      <td>1</td>\n",
       "      <td>0</td>\n",
       "      <td>0</td>\n",
       "      <td>0</td>\n",
       "      <td>0</td>\n",
       "      <td>No</td>\n",
       "    </tr>\n",
       "    <tr>\n",
       "      <th>1</th>\n",
       "      <td>5.589978e+14</td>\n",
       "      <td>5642503</td>\n",
       "      <td>M</td>\n",
       "      <td>2016-04-29 16:08:27+00:00</td>\n",
       "      <td>2016-04-29 00:00:00+00:00</td>\n",
       "      <td>56</td>\n",
       "      <td>JARDIM DA PENHA</td>\n",
       "      <td>0</td>\n",
       "      <td>0</td>\n",
       "      <td>0</td>\n",
       "      <td>0</td>\n",
       "      <td>0</td>\n",
       "      <td>0</td>\n",
       "      <td>No</td>\n",
       "    </tr>\n",
       "    <tr>\n",
       "      <th>2</th>\n",
       "      <td>4.262962e+12</td>\n",
       "      <td>5642549</td>\n",
       "      <td>F</td>\n",
       "      <td>2016-04-29 16:19:04+00:00</td>\n",
       "      <td>2016-04-29 00:00:00+00:00</td>\n",
       "      <td>62</td>\n",
       "      <td>MATA DA PRAIA</td>\n",
       "      <td>0</td>\n",
       "      <td>0</td>\n",
       "      <td>0</td>\n",
       "      <td>0</td>\n",
       "      <td>0</td>\n",
       "      <td>0</td>\n",
       "      <td>No</td>\n",
       "    </tr>\n",
       "    <tr>\n",
       "      <th>3</th>\n",
       "      <td>8.679512e+11</td>\n",
       "      <td>5642828</td>\n",
       "      <td>F</td>\n",
       "      <td>2016-04-29 17:29:31+00:00</td>\n",
       "      <td>2016-04-29 00:00:00+00:00</td>\n",
       "      <td>8</td>\n",
       "      <td>PONTAL DE CAMBURI</td>\n",
       "      <td>0</td>\n",
       "      <td>0</td>\n",
       "      <td>0</td>\n",
       "      <td>0</td>\n",
       "      <td>0</td>\n",
       "      <td>0</td>\n",
       "      <td>No</td>\n",
       "    </tr>\n",
       "    <tr>\n",
       "      <th>4</th>\n",
       "      <td>8.841186e+12</td>\n",
       "      <td>5642494</td>\n",
       "      <td>F</td>\n",
       "      <td>2016-04-29 16:07:23+00:00</td>\n",
       "      <td>2016-04-29 00:00:00+00:00</td>\n",
       "      <td>56</td>\n",
       "      <td>JARDIM DA PENHA</td>\n",
       "      <td>0</td>\n",
       "      <td>1</td>\n",
       "      <td>1</td>\n",
       "      <td>0</td>\n",
       "      <td>0</td>\n",
       "      <td>0</td>\n",
       "      <td>No</td>\n",
       "    </tr>\n",
       "  </tbody>\n",
       "</table>\n",
       "</div>"
      ],
      "text/plain": [
       "      PatientId  AppointmentID Gender              ScheduledDay  \\\n",
       "0  2.987250e+13        5642903      F 2016-04-29 18:38:08+00:00   \n",
       "1  5.589978e+14        5642503      M 2016-04-29 16:08:27+00:00   \n",
       "2  4.262962e+12        5642549      F 2016-04-29 16:19:04+00:00   \n",
       "3  8.679512e+11        5642828      F 2016-04-29 17:29:31+00:00   \n",
       "4  8.841186e+12        5642494      F 2016-04-29 16:07:23+00:00   \n",
       "\n",
       "             AppointmentDay  Age      Neighbourhood  Scholarship  \\\n",
       "0 2016-04-29 00:00:00+00:00   62    JARDIM DA PENHA            0   \n",
       "1 2016-04-29 00:00:00+00:00   56    JARDIM DA PENHA            0   \n",
       "2 2016-04-29 00:00:00+00:00   62      MATA DA PRAIA            0   \n",
       "3 2016-04-29 00:00:00+00:00    8  PONTAL DE CAMBURI            0   \n",
       "4 2016-04-29 00:00:00+00:00   56    JARDIM DA PENHA            0   \n",
       "\n",
       "   Hipertension  Diabetes  Alcoholism  Handcap  SMS_received No-show  \n",
       "0             1         0           0        0             0      No  \n",
       "1             0         0           0        0             0      No  \n",
       "2             0         0           0        0             0      No  \n",
       "3             0         0           0        0             0      No  \n",
       "4             1         1           0        0             0      No  "
      ]
     },
     "execution_count": 71,
     "metadata": {},
     "output_type": "execute_result"
    }
   ],
   "source": [
    "df = pd.read_csv('No_show_data.csv',parse_dates=['ScheduledDay','AppointmentDay']) \n",
    "# I have used parse_dates for these two columns after I invistigated the data.\n",
    "\n",
    "df.head()"
   ]
  },
  {
   "cell_type": "markdown",
   "id": "ab1389f6",
   "metadata": {},
   "source": [
    "_________________________________\n",
    "### 2- InMind Questions:\n",
    "\n",
    "###### General Questions related to the existence of: \n",
    "\n",
    "* missing values?\n",
    "* wrong datatypes for columns?\n",
    "* complete duplicates in the data?\n",
    "* outliers in each column?\n",
    "\n",
    "\n",
    "###### Univariate Questions:\n",
    "\n",
    "* Which `Gender` is more healthier than the other depending on number of enteries?\n",
    "* Which `Age` values are valid or there are values like 1000..,etc?   \n",
    "* Which disease among `Hipertension`, `Diabetes` and `Alcoholism` is most dominant?\n",
    "\n",
    "###### Bivariate Questions:\n",
    "\n",
    "* Is the number of `PatientId` same as `AppointmentID` or may be more than one appointment for the same patient?\n",
    "* Does Receiving `Scholarship` has strong effect on not cancelling the appointment or not?\n",
    "* Does the period between `AppointmentDay` and `ScheduleDay` has effect on cancelling the appointment?\n",
    "_________________________________"
   ]
  },
  {
   "cell_type": "code",
   "execution_count": 72,
   "id": "49bea2b6",
   "metadata": {},
   "outputs": [
    {
     "name": "stdout",
     "output_type": "stream",
     "text": [
      "<class 'pandas.core.frame.DataFrame'>\n",
      "RangeIndex: 110527 entries, 0 to 110526\n",
      "Data columns (total 14 columns):\n",
      " #   Column          Non-Null Count   Dtype              \n",
      "---  ------          --------------   -----              \n",
      " 0   PatientId       110527 non-null  float64            \n",
      " 1   AppointmentID   110527 non-null  int64              \n",
      " 2   Gender          110527 non-null  object             \n",
      " 3   ScheduledDay    110527 non-null  datetime64[ns, UTC]\n",
      " 4   AppointmentDay  110527 non-null  datetime64[ns, UTC]\n",
      " 5   Age             110527 non-null  int64              \n",
      " 6   Neighbourhood   110527 non-null  object             \n",
      " 7   Scholarship     110527 non-null  int64              \n",
      " 8   Hipertension    110527 non-null  int64              \n",
      " 9   Diabetes        110527 non-null  int64              \n",
      " 10  Alcoholism      110527 non-null  int64              \n",
      " 11  Handcap         110527 non-null  int64              \n",
      " 12  SMS_received    110527 non-null  int64              \n",
      " 13  No-show         110527 non-null  object             \n",
      "dtypes: datetime64[ns, UTC](2), float64(1), int64(8), object(3)\n",
      "memory usage: 11.8+ MB\n"
     ]
    }
   ],
   "source": [
    "df.info()"
   ]
  },
  {
   "cell_type": "code",
   "execution_count": 73,
   "id": "5f0e8b35",
   "metadata": {},
   "outputs": [
    {
     "data": {
      "text/plain": [
       "False"
      ]
     },
     "execution_count": 73,
     "metadata": {},
     "output_type": "execute_result"
    }
   ],
   "source": [
    "df.duplicated().any()"
   ]
  },
  {
   "cell_type": "markdown",
   "id": "89bea8ae",
   "metadata": {},
   "source": [
    "_________________________________\n",
    "##### Above cells' conclusion:\n",
    "\n",
    "* Data has no missing values.\n",
    "* Data has no complete duplicates.\n",
    "* `PatientId` & `AppointmentID` need some modifications.\n",
    "* `Handcap` column isn't understandable from the documentation\n",
    "* We may rename `No-show` as `Canceled` to avoid confusion of the column values.\n",
    "_________________________________"
   ]
  },
  {
   "cell_type": "markdown",
   "id": "8c4754ab",
   "metadata": {},
   "source": [
    "### 3- Cleaning:"
   ]
  },
  {
   "cell_type": "code",
   "execution_count": 74,
   "id": "ec4a19e7",
   "metadata": {},
   "outputs": [
    {
     "data": {
      "text/plain": [
       "0    108286\n",
       "1      2042\n",
       "2       183\n",
       "3        13\n",
       "4         3\n",
       "Name: Handcap, dtype: int64"
      ]
     },
     "execution_count": 74,
     "metadata": {},
     "output_type": "execute_result"
    }
   ],
   "source": [
    "# discovering `Handcap` column:\n",
    "\n",
    "df['Handcap'].value_counts() # output values aren't understandable "
   ]
  },
  {
   "cell_type": "code",
   "execution_count": 75,
   "id": "afe0cb8b",
   "metadata": {
    "scrolled": true
   },
   "outputs": [
    {
     "data": {
      "text/plain": [
       "(62299, 110527)"
      ]
     },
     "execution_count": 75,
     "metadata": {},
     "output_type": "execute_result"
    }
   ],
   "source": [
    "# Discovering what is wrong with ID_columns\n",
    "\n",
    "df['PatientId'].nunique() , df['AppointmentID'].nunique()"
   ]
  },
  {
   "cell_type": "markdown",
   "id": "64ee773b",
   "metadata": {},
   "source": [
    "_________________________________\n",
    "##### From the above, we have noticed that:\n",
    "\n",
    "*It seems some patients have more than one appointment. Therefore:*\n",
    "- We may drop `AppointmentID` for simplicity, because its unique values are as much as the total rows of the DataFrame\n",
    "- We will also drop `HandCap` because its values aren't understandable (in order not to mislead our results)\n",
    "_________________________________"
   ]
  },
  {
   "cell_type": "code",
   "execution_count": 76,
   "id": "33973d42",
   "metadata": {},
   "outputs": [
    {
     "data": {
      "text/plain": [
       "True"
      ]
     },
     "execution_count": 76,
     "metadata": {},
     "output_type": "execute_result"
    }
   ],
   "source": [
    "df = df.drop(columns = ['AppointmentID','Handcap'],axis = 1)\n",
    "df.duplicated().any()"
   ]
  },
  {
   "cell_type": "code",
   "execution_count": 77,
   "id": "0acf40ca",
   "metadata": {},
   "outputs": [
    {
     "data": {
      "text/plain": [
       "False"
      ]
     },
     "execution_count": 77,
     "metadata": {},
     "output_type": "execute_result"
    }
   ],
   "source": [
    "# dropping those complete duplicates \"the following will remove the duplicated rows and keep only the `first` row\"\n",
    "\n",
    "df = df.drop_duplicates(ignore_index = True)\n",
    "df.duplicated().any()"
   ]
  },
  {
   "cell_type": "code",
   "execution_count": 78,
   "id": "587aacc3",
   "metadata": {},
   "outputs": [],
   "source": [
    "# replacing `PatientId` enteries with ndarray (from 0 to 62298 \"number of unique values in the column\") \n",
    "\n",
    "rep_array = np.arange(0,df['PatientId'].value_counts().shape[0])\n",
    "df['PatientId'] = df['PatientId'].replace(to_replace = df['PatientId'].unique() , value = rep_array)\n",
    "df['PatientId'] = df['PatientId'].astype('object')\n"
   ]
  },
  {
   "cell_type": "code",
   "execution_count": 79,
   "id": "88340f91",
   "metadata": {},
   "outputs": [],
   "source": [
    "# renaming `No-show` column for avoiding confusion of its enteries \"Yes\", \"No\": \n",
    "\n",
    "df.rename(columns = {'No-show':'Canceled'},inplace=True)"
   ]
  },
  {
   "cell_type": "markdown",
   "id": "52a7272f",
   "metadata": {},
   "source": [
    "_________________________________\n",
    "* After we have cleaned the wrong datatypes, we are safe to run `.describe()` with continous columns. \n",
    "_________________________________"
   ]
  },
  {
   "cell_type": "code",
   "execution_count": 80,
   "id": "d5193c72",
   "metadata": {},
   "outputs": [
    {
     "data": {
      "text/html": [
       "<div>\n",
       "<style scoped>\n",
       "    .dataframe tbody tr th:only-of-type {\n",
       "        vertical-align: middle;\n",
       "    }\n",
       "\n",
       "    .dataframe tbody tr th {\n",
       "        vertical-align: top;\n",
       "    }\n",
       "\n",
       "    .dataframe thead th {\n",
       "        text-align: right;\n",
       "    }\n",
       "</style>\n",
       "<table border=\"1\" class=\"dataframe\">\n",
       "  <thead>\n",
       "    <tr style=\"text-align: right;\">\n",
       "      <th></th>\n",
       "      <th>Age</th>\n",
       "      <th>Scholarship</th>\n",
       "      <th>Hipertension</th>\n",
       "      <th>Diabetes</th>\n",
       "      <th>Alcoholism</th>\n",
       "      <th>SMS_received</th>\n",
       "    </tr>\n",
       "  </thead>\n",
       "  <tbody>\n",
       "    <tr>\n",
       "      <th>count</th>\n",
       "      <td>109909.000000</td>\n",
       "      <td>109909.000000</td>\n",
       "      <td>109909.000000</td>\n",
       "      <td>109909.000000</td>\n",
       "      <td>109909.000000</td>\n",
       "      <td>109909.000000</td>\n",
       "    </tr>\n",
       "    <tr>\n",
       "      <th>mean</th>\n",
       "      <td>37.086472</td>\n",
       "      <td>0.098281</td>\n",
       "      <td>0.197236</td>\n",
       "      <td>0.071814</td>\n",
       "      <td>0.030425</td>\n",
       "      <td>0.322831</td>\n",
       "    </tr>\n",
       "    <tr>\n",
       "      <th>std</th>\n",
       "      <td>23.121491</td>\n",
       "      <td>0.297696</td>\n",
       "      <td>0.397914</td>\n",
       "      <td>0.258181</td>\n",
       "      <td>0.171755</td>\n",
       "      <td>0.467561</td>\n",
       "    </tr>\n",
       "    <tr>\n",
       "      <th>min</th>\n",
       "      <td>-1.000000</td>\n",
       "      <td>0.000000</td>\n",
       "      <td>0.000000</td>\n",
       "      <td>0.000000</td>\n",
       "      <td>0.000000</td>\n",
       "      <td>0.000000</td>\n",
       "    </tr>\n",
       "    <tr>\n",
       "      <th>25%</th>\n",
       "      <td>18.000000</td>\n",
       "      <td>0.000000</td>\n",
       "      <td>0.000000</td>\n",
       "      <td>0.000000</td>\n",
       "      <td>0.000000</td>\n",
       "      <td>0.000000</td>\n",
       "    </tr>\n",
       "    <tr>\n",
       "      <th>50%</th>\n",
       "      <td>37.000000</td>\n",
       "      <td>0.000000</td>\n",
       "      <td>0.000000</td>\n",
       "      <td>0.000000</td>\n",
       "      <td>0.000000</td>\n",
       "      <td>0.000000</td>\n",
       "    </tr>\n",
       "    <tr>\n",
       "      <th>75%</th>\n",
       "      <td>55.000000</td>\n",
       "      <td>0.000000</td>\n",
       "      <td>0.000000</td>\n",
       "      <td>0.000000</td>\n",
       "      <td>0.000000</td>\n",
       "      <td>1.000000</td>\n",
       "    </tr>\n",
       "    <tr>\n",
       "      <th>max</th>\n",
       "      <td>115.000000</td>\n",
       "      <td>1.000000</td>\n",
       "      <td>1.000000</td>\n",
       "      <td>1.000000</td>\n",
       "      <td>1.000000</td>\n",
       "      <td>1.000000</td>\n",
       "    </tr>\n",
       "  </tbody>\n",
       "</table>\n",
       "</div>"
      ],
      "text/plain": [
       "                 Age    Scholarship   Hipertension       Diabetes  \\\n",
       "count  109909.000000  109909.000000  109909.000000  109909.000000   \n",
       "mean       37.086472       0.098281       0.197236       0.071814   \n",
       "std        23.121491       0.297696       0.397914       0.258181   \n",
       "min        -1.000000       0.000000       0.000000       0.000000   \n",
       "25%        18.000000       0.000000       0.000000       0.000000   \n",
       "50%        37.000000       0.000000       0.000000       0.000000   \n",
       "75%        55.000000       0.000000       0.000000       0.000000   \n",
       "max       115.000000       1.000000       1.000000       1.000000   \n",
       "\n",
       "          Alcoholism   SMS_received  \n",
       "count  109909.000000  109909.000000  \n",
       "mean        0.030425       0.322831  \n",
       "std         0.171755       0.467561  \n",
       "min         0.000000       0.000000  \n",
       "25%         0.000000       0.000000  \n",
       "50%         0.000000       0.000000  \n",
       "75%         0.000000       1.000000  \n",
       "max         1.000000       1.000000  "
      ]
     },
     "execution_count": 80,
     "metadata": {},
     "output_type": "execute_result"
    }
   ],
   "source": [
    "df.describe()"
   ]
  },
  {
   "cell_type": "markdown",
   "id": "77ec0d38",
   "metadata": {},
   "source": [
    "_________________________________\n",
    "##### From the above, we have noticed that:\n",
    "\n",
    "* Columns like `Scholarship`, `Hipertension`, `Diabetes`, `Alcoholism` and `SMS_received` are all categorical columns with values 0,1 not actually continous columns. Therefore, we must change their datatypes.\n",
    "* `Age` column has some invalid negative values.\n",
    "_________________________________"
   ]
  },
  {
   "cell_type": "markdown",
   "id": "a3beb1d4",
   "metadata": {},
   "source": [
    "> ***1. Fixing datatypes***\n"
   ]
  },
  {
   "cell_type": "code",
   "execution_count": 81,
   "id": "a1dec51a",
   "metadata": {},
   "outputs": [],
   "source": [
    "cat_col = ['Scholarship', 'Hipertension', 'Diabetes', 'Alcoholism', 'SMS_received']\n",
    "df[cat_col] = df[cat_col].astype('category')"
   ]
  },
  {
   "cell_type": "markdown",
   "id": "be3100e6",
   "metadata": {},
   "source": [
    "> ***2. Fixing `Age` Column***\n",
    " "
   ]
  },
  {
   "cell_type": "code",
   "execution_count": 82,
   "id": "1e8dce17",
   "metadata": {
    "scrolled": true
   },
   "outputs": [
    {
     "data": {
      "image/png": "[encoded data removed]",
      "text/plain": [
       "<Figure size 1440x360 with 2 Axes>"
      ]
     },
     "metadata": {
      "needs_background": "light"
     },
     "output_type": "display_data"
    }
   ],
   "source": [
    "### discovering ###\n",
    "\n",
    "\n",
    "outliers_l = 0 # declared to be gloabl variable used inside the following function\n",
    "\n",
    "def plot_age():    \n",
    "    \"\"\" This funcion is to be used in another cell \"\"\"\n",
    "    \n",
    "    # for invalid_ages \"negative & zero\"\n",
    "    invaled_percentage = f\"{(100 * df[df['Age'] <= 0].shape[0] / df.shape[0] ) :0.3f} %\" \n",
    "\n",
    "    #for outliers:\n",
    "    q1,q3 = np.quantile(df['Age'],[0.25, 0.75])\n",
    "    IQR   = q3 - q1\n",
    "    global outliers_l\n",
    "    outliers_l = (q3 + 1.5*IQR) \n",
    "    outliers_percentage= f\"{(100 * df[ df['Age'] > outliers_l ].shape[0] / df.shape[0] ) :0.3f} %\" \n",
    "\n",
    "\n",
    "    # for figuring subplots\n",
    "    \n",
    "    fig,ax = plt.subplots(1,2,figsize=(20,5))\n",
    "    sns.histplot(ax=ax[0],data=df,x='Age',bins= df['Age'].unique().shape[0]-1,color = 'gray') # for histogram\n",
    "    sns.boxplot(ax=ax[1],data=df,x='Age',color = 'skyblue') # for boxplot \n",
    "\n",
    "    # note the above two subplots must be axes-level not figure-level like `displot` or `catplot` to be compatible with subplots\n",
    "    \n",
    "    ax[0].set_ylabel('Number of sample enteries with this age')\n",
    "    ax[0].set_title('Histogram of Age column shows the invaled data')\n",
    "    ax[1].set_title('Boxplot of Age column shows the outliers')\n",
    "    plt.suptitle(f'Age has {invaled_percentage} invaled data & {outliers_percentage} outliers',y=1.1,size =25);\n",
    "\n",
    "plot_age()\n"
   ]
  },
  {
   "cell_type": "markdown",
   "id": "c0413e9e",
   "metadata": {},
   "source": [
    "__________________________\n",
    "\n",
    "From the above plot, `Age` has **3.213 %** invaled data & **0.004 %** outliers\n",
    "__________________________"
   ]
  },
  {
   "cell_type": "code",
   "execution_count": 83,
   "id": "a5be38b1",
   "metadata": {},
   "outputs": [],
   "source": [
    "# We will fill the invaled and outliers ages with either `Males_mean_age or Females_mean_age` depending on the value of \n",
    "# Gender in each entry\n",
    "\n",
    "Condition_1 =  (df['Age'] <= outliers_l) | (df['Age'] > 0)  \n",
    "valid_age_data = df.loc[ Condition_1 ]\n",
    "\n",
    "m_males , m_females = valid_age_data.groupby('Gender').mean()['Age']  # getting the mean_age for males and females\n"
   ]
  },
  {
   "cell_type": "code",
   "execution_count": 84,
   "id": "6f8dadbd",
   "metadata": {
    "scrolled": true
   },
   "outputs": [
    {
     "data": {
      "image/png": "[encoded data removed]",
      "text/plain": [
       "<Figure size 1440x360 with 2 Axes>"
      ]
     },
     "metadata": {
      "needs_background": "light"
     },
     "output_type": "display_data"
    }
   ],
   "source": [
    "### filling invaled data & outliers ###\n",
    "\n",
    "Condition_M = (df['Gender'] == 'M') & ( (df['Age'] > outliers_l) | (df['Age'] <= 0) )\n",
    "Condition_F = (df['Gender'] == 'F') & ( (df['Age'] > outliers_l) | (df['Age'] <= 0) ) \n",
    "\n",
    "\n",
    "df.loc[ Condition_M , 'Age' ] = m_males\n",
    "df.loc[ Condition_F , 'Age' ] = m_females\n",
    "\n",
    "plot_age()  # function declared in the a previous cell to draw histogram & box_plot for `Age` column\n",
    "\n"
   ]
  },
  {
   "cell_type": "markdown",
   "id": "2a629429",
   "metadata": {},
   "source": [
    "_______________________\n",
    "\n",
    "From the above plot, `Age` has **0 %** invaled data & **0 %** outliers\n",
    "__________________________"
   ]
  },
  {
   "cell_type": "markdown",
   "id": "44652b1f",
   "metadata": {},
   "source": [
    "_________________________________\n",
    "#### For Cleaning Summary, I did the following:\n",
    "\n",
    "1. dropped `AppointmentID` and `HandCap` Columns.\n",
    "2. replaced `PatientId` values with `0 -> 62298` values\n",
    "3. renamed `No-show` to `Canceled`\n",
    "4. changed the datatypes for `Scholarship`, `Hipertension`, `Diabetes`, `Alcoholism` and `SMS_received`\n",
    "5. replaced wrong values in the `Age` column\n",
    "# <center> _______________________________________________________"
   ]
  },
  {
   "cell_type": "markdown",
   "id": "2b591f60",
   "metadata": {},
   "source": [
    "<a id='EDA'></a>\n",
    "## EDA (Exploratory Data Analysis):"
   ]
  },
  {
   "cell_type": "markdown",
   "id": "4ec26214",
   "metadata": {},
   "source": [
    "### 1.1- Univariate Analysis:\n",
    "_________________________________\n",
    "* Which `Gender` is more healthier than the other depending on number of enteries?\n",
    "* Which disease among `Hipertension`, `Diabetes` and `Alcoholism` is most dominant?\n",
    "_________________________________"
   ]
  },
  {
   "cell_type": "code",
   "execution_count": 85,
   "id": "97ad17cf",
   "metadata": {},
   "outputs": [
    {
     "data": {
      "image/png": "[encoded data removed]",
      "text/plain": [
       "<Figure size 864x288 with 2 Axes>"
      ]
     },
     "metadata": {
      "needs_background": "light"
     },
     "output_type": "display_data"
    }
   ],
   "source": [
    "# plotting 'Males' vs 'Females'\n",
    "\n",
    "fig, ax = plt.subplots(1,2,figsize=(12,4))\n",
    "\n",
    "data = [ df['Gender'].value_counts()['M'], df['Gender'].value_counts()['F'] ]\n",
    "ax[0].pie(data,labels = ['Males','Females'], explode = [0, 0.1] , autopct='%.0f%%' , shadow = True , colors = ['#CFCFCF','skyblue'])\n",
    "\n",
    "sns.barplot(ax = ax[1], data = df, x = 'Age' , y = 'Gender', palette = [\"skyblue\", \"#CFCFCF\"])\n",
    "\n",
    "ax[0].set_title(\"Males' Vs Femals' Percentage\")\n",
    "ax[1].set_title(\"Males' Vs Femals' Mean_Age\")\n",
    "\n",
    "fig.suptitle(\"Showing details about (Gender) Column\",y = 1.1, size = 24);"
   ]
  },
  {
   "cell_type": "markdown",
   "id": "ef56840d",
   "metadata": {},
   "source": [
    "___________________\n",
    "From the above plots:\n",
    "\n",
    "* `Females` % reserved appointments is > `Males` %.\n",
    "* `Females` who reserved appointments are **40-year** old on average. \n",
    "* `Males` who reserved appointments are **35-year** old on average.\n",
    "___________________"
   ]
  },
  {
   "cell_type": "code",
   "execution_count": 86,
   "id": "aa1c414b",
   "metadata": {
    "scrolled": true
   },
   "outputs": [
    {
     "data": {
      "image/png": "[encoded data removed]",
      "text/plain": [
       "<Figure size 1152x432 with 3 Axes>"
      ]
     },
     "metadata": {
      "needs_background": "light"
     },
     "output_type": "display_data"
    }
   ],
   "source": [
    "# Visualizing each disease percentage for the two Genders\n",
    "\n",
    "M_Al = df[ df['Gender'] == 'M' ]['Alcoholism'].value_counts() [1]\n",
    "M_Di = df[ df['Gender'] == 'M' ]['Diabetes'].value_counts() [1]\n",
    "M_Hi = df[ df['Gender'] == 'M' ]['Hipertension'].value_counts() [1]\n",
    "\n",
    "F_Al = df[ df['Gender'] == 'F' ]['Alcoholism'].value_counts() [1]\n",
    "F_Di = df[ df['Gender'] == 'F' ]['Diabetes'].value_counts() [1]\n",
    "F_Hi = df[ df['Gender'] == 'F' ]['Hipertension'].value_counts() [1]\n",
    "\n",
    "data_M = [ M_Al, M_Di, M_Hi ]\n",
    "data_F = [ F_Al, F_Di, F_Hi ]\n",
    "\n",
    "data_All = np.array(data_M) + np.array(data_F)\n",
    "data_All \n",
    "\n",
    "lab = ['Alcoholism','Diabetes','Hipertension']\n",
    "ex = [0, 0.1,0.1] \n",
    "col =['#ABABAB','#CFCFCF','#9ECDE9'] \n",
    "\n",
    "\n",
    "\n",
    "fig,ax = plt.subplots(1,3,figsize=(16,6))\n",
    "\n",
    "\n",
    "sns.barplot(ax=ax[0],y = lab , x = data_All, palette =col) # 1st plot (all diseases)\n",
    "ax[1].pie(data_M ,labels= lab,explode = ex , autopct='%.0f%%' , shadow = True , colors = col) # 2nd plot (Males)\n",
    "ax[2].pie(data_F ,labels= lab,explode = ex , autopct='%.0f%%' , shadow = True , colors = col) # 3rd plot (Females)\n",
    "\n",
    "ax[0].set_xlabel('No. of people having the disease',size =13)\n",
    "ax[0].set_ylabel('Disease name',size =13)\n",
    "ax[0].set_title('All Sample Diseases',y = -.3,size = 20)\n",
    "ax[1].set_title('Males Diseases',y = -.3,size = 20)\n",
    "ax[2].set_title('Females Diseases',y = -.3,size = 20)\n",
    "\n",
    "fig.tight_layout(pad=4)\n",
    "fig.suptitle('% (Diseases) For Both Genders', y = 1.1,size = 30);"
   ]
  },
  {
   "cell_type": "markdown",
   "id": "ced84b39",
   "metadata": {},
   "source": [
    "___________________\n",
    "From the above plots:\n",
    "\n",
    "* `Hypertension` is by far the most dominant disease for the appointments.\n",
    "* `Females` are less addected to `Alcohol` tha `Males`.\n",
    "___________________"
   ]
  },
  {
   "cell_type": "markdown",
   "id": "29f67732",
   "metadata": {},
   "source": [
    "### 1.2- Univariate Conclusion:\n",
    ">  #### I have concluded that:\n",
    "\n",
    "* In our sample, `Females` care with their health more than `Males` as they reserved more appointments.\n",
    "* The most dominant disease in our sample is `Hypertension`.\n",
    "* % of `Alcohol` additction is, by far, higher in `Males` than `Females`.   ''' It's a bivariate conclusion '''\n",
    "______________________________________________"
   ]
  },
  {
   "cell_type": "markdown",
   "id": "6d6a9616",
   "metadata": {},
   "source": [
    "### 2.1- Bivariate Analysis:\n",
    "_________________________________\n",
    "* Does Receiving `Scholarship` has strong effect on not cancelling the appointment or not?\n",
    "* Does the period between `AppointmentDay` and `ScheduledDay` has effect on cancelling the appointment?\n",
    "* Does `Gender` has effect on Cancelling an appointment?\n",
    "_________________________________"
   ]
  },
  {
   "cell_type": "code",
   "execution_count": 87,
   "id": "3ad94de5",
   "metadata": {},
   "outputs": [
    {
     "data": {
      "text/plain": [
       "[0, 1]\n",
       "Categories (2, int64): [0, 1]"
      ]
     },
     "execution_count": 87,
     "metadata": {},
     "output_type": "execute_result"
    }
   ],
   "source": [
    "df['Scholarship'].unique()"
   ]
  },
  {
   "cell_type": "code",
   "execution_count": 88,
   "id": "e7621161",
   "metadata": {
    "scrolled": false
   },
   "outputs": [
    {
     "data": {
      "image/png": "[encoded data removed]",
      "text/plain": [
       "<Figure size 432x288 with 1 Axes>"
      ]
     },
     "metadata": {
      "needs_background": "light"
     },
     "output_type": "display_data"
    }
   ],
   "source": [
    "sns.countplot(data = df, x = 'Canceled',hue='Scholarship', palette =['#ABABAB','#9ECDE9'] )\n",
    "plt.xlabel('Cancelling the appointment or not?',size =13)\n",
    "plt.ylabel('Number of appointmnets',size =13)\n",
    "plt.title('How receiving Scholarship may affect Cancelling appointments',y =1.1, size=20);"
   ]
  },
  {
   "cell_type": "markdown",
   "id": "e03b9d75",
   "metadata": {},
   "source": [
    "______________________________\n",
    "From the above plot:\n",
    "* Appointments that aren't canceled tend to be for those who received a `Scholarship` more.\n",
    "\n",
    "______________________________"
   ]
  },
  {
   "cell_type": "code",
   "execution_count": 89,
   "id": "93c0be5f",
   "metadata": {
    "scrolled": false
   },
   "outputs": [
    {
     "data": {
      "text/plain": [
       "count                        109909\n",
       "mean      9 days 16:29:13.462873832\n",
       "std      15 days 05:45:20.798050125\n",
       "min               -7 days +10:10:40\n",
       "25%               -1 days +15:40:32\n",
       "50%                 3 days 10:54:03\n",
       "75%                14 days 06:18:04\n",
       "max               178 days 13:19:01\n",
       "dtype: object"
      ]
     },
     "execution_count": 89,
     "metadata": {},
     "output_type": "execute_result"
    }
   ],
   "source": [
    "(df['AppointmentDay'] - df['ScheduledDay']).describe()"
   ]
  },
  {
   "cell_type": "markdown",
   "id": "0f91d714",
   "metadata": {},
   "source": [
    "____________________\n",
    "###### The appeared -ve values are misleading. so we will explore those columns in more details: \n",
    "___________________"
   ]
  },
  {
   "cell_type": "code",
   "execution_count": 90,
   "id": "249de051",
   "metadata": {},
   "outputs": [
    {
     "data": {
      "text/html": [
       "<div>\n",
       "<style scoped>\n",
       "    .dataframe tbody tr th:only-of-type {\n",
       "        vertical-align: middle;\n",
       "    }\n",
       "\n",
       "    .dataframe tbody tr th {\n",
       "        vertical-align: top;\n",
       "    }\n",
       "\n",
       "    .dataframe thead th {\n",
       "        text-align: right;\n",
       "    }\n",
       "</style>\n",
       "<table border=\"1\" class=\"dataframe\">\n",
       "  <thead>\n",
       "    <tr style=\"text-align: right;\">\n",
       "      <th></th>\n",
       "      <th>ScheduledDay</th>\n",
       "      <th>AppointmentDay</th>\n",
       "    </tr>\n",
       "  </thead>\n",
       "  <tbody>\n",
       "    <tr>\n",
       "      <th>0</th>\n",
       "      <td>2016-04-29 18:38:08+00:00</td>\n",
       "      <td>2016-04-29 00:00:00+00:00</td>\n",
       "    </tr>\n",
       "    <tr>\n",
       "      <th>1</th>\n",
       "      <td>2016-04-29 16:08:27+00:00</td>\n",
       "      <td>2016-04-29 00:00:00+00:00</td>\n",
       "    </tr>\n",
       "    <tr>\n",
       "      <th>2</th>\n",
       "      <td>2016-04-29 16:19:04+00:00</td>\n",
       "      <td>2016-04-29 00:00:00+00:00</td>\n",
       "    </tr>\n",
       "    <tr>\n",
       "      <th>3</th>\n",
       "      <td>2016-04-29 17:29:31+00:00</td>\n",
       "      <td>2016-04-29 00:00:00+00:00</td>\n",
       "    </tr>\n",
       "    <tr>\n",
       "      <th>4</th>\n",
       "      <td>2016-04-29 16:07:23+00:00</td>\n",
       "      <td>2016-04-29 00:00:00+00:00</td>\n",
       "    </tr>\n",
       "    <tr>\n",
       "      <th>...</th>\n",
       "      <td>...</td>\n",
       "      <td>...</td>\n",
       "    </tr>\n",
       "    <tr>\n",
       "      <th>109904</th>\n",
       "      <td>2016-05-03 09:15:35+00:00</td>\n",
       "      <td>2016-06-07 00:00:00+00:00</td>\n",
       "    </tr>\n",
       "    <tr>\n",
       "      <th>109905</th>\n",
       "      <td>2016-05-03 07:27:33+00:00</td>\n",
       "      <td>2016-06-07 00:00:00+00:00</td>\n",
       "    </tr>\n",
       "    <tr>\n",
       "      <th>109906</th>\n",
       "      <td>2016-04-27 16:03:52+00:00</td>\n",
       "      <td>2016-06-07 00:00:00+00:00</td>\n",
       "    </tr>\n",
       "    <tr>\n",
       "      <th>109907</th>\n",
       "      <td>2016-04-27 15:09:23+00:00</td>\n",
       "      <td>2016-06-07 00:00:00+00:00</td>\n",
       "    </tr>\n",
       "    <tr>\n",
       "      <th>109908</th>\n",
       "      <td>2016-04-27 13:30:56+00:00</td>\n",
       "      <td>2016-06-07 00:00:00+00:00</td>\n",
       "    </tr>\n",
       "  </tbody>\n",
       "</table>\n",
       "<p>109909 rows × 2 columns</p>\n",
       "</div>"
      ],
      "text/plain": [
       "                    ScheduledDay            AppointmentDay\n",
       "0      2016-04-29 18:38:08+00:00 2016-04-29 00:00:00+00:00\n",
       "1      2016-04-29 16:08:27+00:00 2016-04-29 00:00:00+00:00\n",
       "2      2016-04-29 16:19:04+00:00 2016-04-29 00:00:00+00:00\n",
       "3      2016-04-29 17:29:31+00:00 2016-04-29 00:00:00+00:00\n",
       "4      2016-04-29 16:07:23+00:00 2016-04-29 00:00:00+00:00\n",
       "...                          ...                       ...\n",
       "109904 2016-05-03 09:15:35+00:00 2016-06-07 00:00:00+00:00\n",
       "109905 2016-05-03 07:27:33+00:00 2016-06-07 00:00:00+00:00\n",
       "109906 2016-04-27 16:03:52+00:00 2016-06-07 00:00:00+00:00\n",
       "109907 2016-04-27 15:09:23+00:00 2016-06-07 00:00:00+00:00\n",
       "109908 2016-04-27 13:30:56+00:00 2016-06-07 00:00:00+00:00\n",
       "\n",
       "[109909 rows x 2 columns]"
      ]
     },
     "execution_count": 90,
     "metadata": {},
     "output_type": "execute_result"
    }
   ],
   "source": [
    "df [ ['ScheduledDay', 'AppointmentDay'] ]"
   ]
  },
  {
   "cell_type": "markdown",
   "id": "427defa5",
   "metadata": {},
   "source": [
    "_________________________________\n",
    "* we show that the `AppointmentDay` shows only date and not time while `ScheduledDay` show both \n",
    " so if they are the same date, it may appear -ve values thanks to this incompatibility.\n",
    "\n",
    "*Therefore, I will drop **time** and just keep **year**, **month** and **day** of those two columns*\n",
    "_________________________________"
   ]
  },
  {
   "cell_type": "code",
   "execution_count": 91,
   "id": "1d5bc124",
   "metadata": {},
   "outputs": [],
   "source": [
    "df['ScheduledDay'] = pd.to_datetime(df['ScheduledDay'].dt.strftime('%Y-%m-%d') )\n",
    "df['AppointmentDay'] = pd.to_datetime(df['AppointmentDay'].dt.strftime('%Y-%m-%d') )"
   ]
  },
  {
   "cell_type": "code",
   "execution_count": 92,
   "id": "791bd0e8",
   "metadata": {
    "scrolled": false
   },
   "outputs": [
    {
     "data": {
      "text/html": [
       "<div>\n",
       "<style scoped>\n",
       "    .dataframe tbody tr th:only-of-type {\n",
       "        vertical-align: middle;\n",
       "    }\n",
       "\n",
       "    .dataframe tbody tr th {\n",
       "        vertical-align: top;\n",
       "    }\n",
       "\n",
       "    .dataframe thead th {\n",
       "        text-align: right;\n",
       "    }\n",
       "</style>\n",
       "<table border=\"1\" class=\"dataframe\">\n",
       "  <thead>\n",
       "    <tr style=\"text-align: right;\">\n",
       "      <th></th>\n",
       "      <th>PatientId</th>\n",
       "      <th>Gender</th>\n",
       "      <th>ScheduledDay</th>\n",
       "      <th>AppointmentDay</th>\n",
       "      <th>Age</th>\n",
       "      <th>Neighbourhood</th>\n",
       "      <th>Scholarship</th>\n",
       "      <th>Hipertension</th>\n",
       "      <th>Diabetes</th>\n",
       "      <th>Alcoholism</th>\n",
       "      <th>SMS_received</th>\n",
       "      <th>Canceled</th>\n",
       "      <th>ReservationPeriod</th>\n",
       "    </tr>\n",
       "  </thead>\n",
       "  <tbody>\n",
       "    <tr>\n",
       "      <th>26882</th>\n",
       "      <td>3103.0</td>\n",
       "      <td>M</td>\n",
       "      <td>2016-05-10</td>\n",
       "      <td>2016-05-09</td>\n",
       "      <td>38.0</td>\n",
       "      <td>RESISTÊNCIA</td>\n",
       "      <td>0</td>\n",
       "      <td>0</td>\n",
       "      <td>0</td>\n",
       "      <td>0</td>\n",
       "      <td>0</td>\n",
       "      <td>Yes</td>\n",
       "      <td>-1 days</td>\n",
       "    </tr>\n",
       "    <tr>\n",
       "      <th>54938</th>\n",
       "      <td>24091.0</td>\n",
       "      <td>F</td>\n",
       "      <td>2016-05-18</td>\n",
       "      <td>2016-05-17</td>\n",
       "      <td>19.0</td>\n",
       "      <td>SANTO ANTÔNIO</td>\n",
       "      <td>0</td>\n",
       "      <td>0</td>\n",
       "      <td>0</td>\n",
       "      <td>0</td>\n",
       "      <td>0</td>\n",
       "      <td>Yes</td>\n",
       "      <td>-1 days</td>\n",
       "    </tr>\n",
       "    <tr>\n",
       "      <th>63818</th>\n",
       "      <td>35601.0</td>\n",
       "      <td>F</td>\n",
       "      <td>2016-05-05</td>\n",
       "      <td>2016-05-04</td>\n",
       "      <td>22.0</td>\n",
       "      <td>CONSOLAÇÃO</td>\n",
       "      <td>0</td>\n",
       "      <td>0</td>\n",
       "      <td>0</td>\n",
       "      <td>0</td>\n",
       "      <td>0</td>\n",
       "      <td>Yes</td>\n",
       "      <td>-1 days</td>\n",
       "    </tr>\n",
       "    <tr>\n",
       "      <th>71077</th>\n",
       "      <td>45038.0</td>\n",
       "      <td>F</td>\n",
       "      <td>2016-05-11</td>\n",
       "      <td>2016-05-05</td>\n",
       "      <td>81.0</td>\n",
       "      <td>SANTO ANTÔNIO</td>\n",
       "      <td>0</td>\n",
       "      <td>0</td>\n",
       "      <td>0</td>\n",
       "      <td>0</td>\n",
       "      <td>0</td>\n",
       "      <td>Yes</td>\n",
       "      <td>-6 days</td>\n",
       "    </tr>\n",
       "    <tr>\n",
       "      <th>71902</th>\n",
       "      <td>45368.0</td>\n",
       "      <td>M</td>\n",
       "      <td>2016-05-04</td>\n",
       "      <td>2016-05-03</td>\n",
       "      <td>7.0</td>\n",
       "      <td>TABUAZEIRO</td>\n",
       "      <td>0</td>\n",
       "      <td>0</td>\n",
       "      <td>0</td>\n",
       "      <td>0</td>\n",
       "      <td>0</td>\n",
       "      <td>Yes</td>\n",
       "      <td>-1 days</td>\n",
       "    </tr>\n",
       "  </tbody>\n",
       "</table>\n",
       "</div>"
      ],
      "text/plain": [
       "      PatientId Gender ScheduledDay AppointmentDay   Age  Neighbourhood  \\\n",
       "26882    3103.0      M   2016-05-10     2016-05-09  38.0    RESISTÊNCIA   \n",
       "54938   24091.0      F   2016-05-18     2016-05-17  19.0  SANTO ANTÔNIO   \n",
       "63818   35601.0      F   2016-05-05     2016-05-04  22.0     CONSOLAÇÃO   \n",
       "71077   45038.0      F   2016-05-11     2016-05-05  81.0  SANTO ANTÔNIO   \n",
       "71902   45368.0      M   2016-05-04     2016-05-03   7.0     TABUAZEIRO   \n",
       "\n",
       "      Scholarship Hipertension Diabetes Alcoholism SMS_received Canceled  \\\n",
       "26882           0            0        0          0            0      Yes   \n",
       "54938           0            0        0          0            0      Yes   \n",
       "63818           0            0        0          0            0      Yes   \n",
       "71077           0            0        0          0            0      Yes   \n",
       "71902           0            0        0          0            0      Yes   \n",
       "\n",
       "      ReservationPeriod  \n",
       "26882           -1 days  \n",
       "54938           -1 days  \n",
       "63818           -1 days  \n",
       "71077           -6 days  \n",
       "71902           -1 days  "
      ]
     },
     "execution_count": 92,
     "metadata": {},
     "output_type": "execute_result"
    }
   ],
   "source": [
    "df['ReservationPeriod'] = (df['AppointmentDay'] - df['ScheduledDay']) \n",
    "df[ df['ReservationPeriod'] < pd.Timedelta(0) ]   "
   ]
  },
  {
   "cell_type": "markdown",
   "id": "3e229e0a",
   "metadata": {},
   "source": [
    "_________________________________\n",
    "Even after this cleaning, I have found five enteries with -ve `Reservation_period` value, \n",
    "I will drop them as they are only **5_enteries** out of **109909**\n",
    "________________________________"
   ]
  },
  {
   "cell_type": "code",
   "execution_count": 93,
   "id": "1d0a8d12",
   "metadata": {},
   "outputs": [],
   "source": [
    "# concerting the columns to numeric instead of datetime for further plotting \n",
    "df['ReservationPeriod'] = df['ReservationPeriod'].dt.days"
   ]
  },
  {
   "cell_type": "code",
   "execution_count": 94,
   "id": "7eafcd88",
   "metadata": {},
   "outputs": [
    {
     "data": {
      "text/plain": [
       "No     87804\n",
       "Yes    22105\n",
       "Name: Canceled, dtype: int64"
      ]
     },
     "execution_count": 94,
     "metadata": {},
     "output_type": "execute_result"
    }
   ],
   "source": [
    "df['Canceled'].value_counts()"
   ]
  },
  {
   "cell_type": "code",
   "execution_count": 95,
   "id": "496fb78f",
   "metadata": {
    "scrolled": false
   },
   "outputs": [
    {
     "data": {
      "image/png": "[encoded data removed]",
      "text/plain": [
       "<Figure size 864x360 with 2 Axes>"
      ]
     },
     "metadata": {
      "needs_background": "light"
     },
     "output_type": "display_data"
    }
   ],
   "source": [
    "fig, ax = plt.subplots(1,2, figsize = (12,5))\n",
    "\n",
    "sns.barplot(ax= ax[0], data =df, x = 'Canceled', y= 'ReservationPeriod',estimator = np.median, palette = ['#ABABAB','#9ECDE9'], ci = False, hue ='Gender')\n",
    "ax[1].pie(df['Canceled'].value_counts().values , labels = ['No', 'Yes'], autopct='%.0f%%',explode = [0.1,0],shadow =True,colors = ['#ABABAB','#9ECDE9'])\n",
    "\n",
    "\n",
    "ax[1].set_title('% of Canceled Vs NonCanceled Appointments', y = -.3)\n",
    "ax[0].set_title('Median ReservationPeriod of Canceled Vs NonCanceled Appointments', y = -.3)\n",
    "ax[0].set_ylabel('Reservation period in days', size = 12)\n",
    "\n",
    "fig.tight_layout(pad=3)\n",
    "fig.suptitle('How ReservationPeriod Length Affects Cancelling The Appointments', y = 1.1,size = 25,horizontalalignment = 'center');"
   ]
  },
  {
   "cell_type": "markdown",
   "id": "6f92a30f",
   "metadata": {},
   "source": [
    "_________________________________\n",
    "*It appears from the above plots that:* \n",
    "\n",
    "* `20 %` of our sample appointments are cancelled.\n",
    "* Longer`ReservationPeriod` contributes to those cancelled appointments.\n",
    "* `Gender` has no notable effect on cancelling appointments.\n",
    "________________________________"
   ]
  },
  {
   "cell_type": "markdown",
   "id": "e6178c73",
   "metadata": {},
   "source": [
    "### 2.2- Bivariate Conclusion:\n",
    "\n",
    "_________________________________\n",
    "> ### I have concluded that:\n",
    "\n",
    "* Receiving `Scholarship` has strong effect on not cancelling the appointment.\n",
    "* Longer`ReservationPeriod` __ period between `AppointmentDay` and `ScheduledDay` __ contributes to those cancelled appointments.\n",
    "* `Gender` has no notable effect on cancelling appointments.\n",
    "\n",
    "_________________________________\n"
   ]
  },
  {
   "cell_type": "markdown",
   "id": "a9045f22",
   "metadata": {},
   "source": [
    "<a id='Conclusion'></a>\n",
    "## Conclusion:\n",
    "_______________________\n",
    "> ## Reached Results:\n",
    "\n",
    "#### I go through a 110527-row and 14-column dataset about medical appointments in Brazil in order to discover which features affects the meeting being Canceled or not.\n",
    "\n",
    "#### First, the data has to be cleaned and I:\n",
    "\n",
    "1. dropped `AppointmentID` and `HandCap` Columns.\n",
    "2. replaced `PatientId` values with `0 -> 62298` values.\n",
    "3. renamed `No-show` to `Canceled` for avoiding confusion.\n",
    "4. changed the datatypes for `Scholarship`, `Hipertension`, `Diabetes`, `Alcoholism` and `SMS_received`.\n",
    "5. replaced wrong values in the `Age` column.\n",
    "\n",
    "\n",
    "#### Then, I came with some insights from the analysis that:\n",
    "\n",
    "1. In our sample, `Females` care with their health more than `Males` as they reserved more appointments.\n",
    "2. The most dominant disease in our sample is `Diabetes`.\n",
    "3. % of `Alcohol` additction is, by far, higher in `Males` than `Females`.  \n",
    "4. Receiving `Scholarship` has strong effect on not cancelling the appointment.\n",
    "5. Longer`ReservationPeriod` __ period between `AppointmentDay` and `ScheduledDay` __ contributes to those cancelled appointments.\n",
    "6. `Gender` has no notable effect on cancelling appointments.\n",
    "\n",
    "#### After that, I concluded the main objective that:\n",
    "\n",
    "* Receiving financial `Scholarship` & geting shorter `ReservationPeriod` for the appointment are the most two features that may tend to lower the number of Canceled appointments \n",
    "\n",
    "\n",
    "> ## Limitations:\n",
    "\n",
    "#### There are two limitations in this data:\n",
    "\n",
    "1. `Handcap` has no documentation in the kaggle description & its name has no translation so it may be important but we cannot understand it.\n",
    "2. Discription of data on kaggle shows that `SMS_received` is a field indicates number of message received but in this data it is only binary field with either **0** or **1** which may reflect misleading understand.\n"
   ]
  }
 ],
 "metadata": {
  "kernelspec": {
   "display_name": "Python 3",
   "language": "python",
   "name": "python3"
  },
  "language_info": {
   "codemirror_mode": {
    "name": "ipython",
    "version": 3
   },
   "file_extension": ".py",
   "mimetype": "text/x-python",
   "name": "python",
   "nbconvert_exporter": "python",
   "pygments_lexer": "ipython3",
   "version": "3.8.8"
  }
 },
 "nbformat": 4,
 "nbformat_minor": 5
}
